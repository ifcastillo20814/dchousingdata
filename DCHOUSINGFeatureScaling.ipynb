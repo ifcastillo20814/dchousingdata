{
 "cells": [
  {
   "cell_type": "markdown",
   "metadata": {},
   "source": [
    "# Feature Scaling\n",
    "\n",
    "In this notebook, we will use the [Pima Diabetes Dataset](https://www.kaggle.com/uciml/pima-indians-diabetes-database) from the UCI Machine Learning Database to learn how to scale feature data. Scaling means to change the range of values for the data so that features (columns) that have vastly different numerical ranges can be more easily compared. We will look at 2 types of scaling - z-score standardization and Min-max scaling."
   ]
  },
  {
   "cell_type": "code",
   "execution_count": 14,
   "metadata": {},
   "outputs": [],
   "source": [
    "import pandas as pd\n",
    "\n",
    "#preprocessing functions will be used to standardize/normalize data\n",
    "from sklearn import preprocessing\n",
    "from sklearn.preprocessing import StandardScaler\n",
    "from sklearn.preprocessing import MinMaxScaler\n",
    "\n",
    "%matplotlib inline"
   ]
  },
  {
   "cell_type": "code",
   "execution_count": 15,
   "metadata": {},
   "outputs": [
    {
     "data": {
      "text/html": [
       "<div>\n",
       "<style scoped>\n",
       "    .dataframe tbody tr th:only-of-type {\n",
       "        vertical-align: middle;\n",
       "    }\n",
       "\n",
       "    .dataframe tbody tr th {\n",
       "        vertical-align: top;\n",
       "    }\n",
       "\n",
       "    .dataframe thead th {\n",
       "        text-align: right;\n",
       "    }\n",
       "</style>\n",
       "<table border=\"1\" class=\"dataframe\">\n",
       "  <thead>\n",
       "    <tr style=\"text-align: right;\">\n",
       "      <th></th>\n",
       "      <th>Unnamed: 0</th>\n",
       "      <th>BATHRM</th>\n",
       "      <th>HF_BATHRM</th>\n",
       "      <th>HEAT</th>\n",
       "      <th>AC</th>\n",
       "      <th>NUM_UNITS</th>\n",
       "      <th>ROOMS</th>\n",
       "      <th>BEDRM</th>\n",
       "      <th>AYB</th>\n",
       "      <th>YR_RMDL</th>\n",
       "      <th>...</th>\n",
       "      <th>LONGITUDE</th>\n",
       "      <th>ASSESSMENT_NBHD</th>\n",
       "      <th>ASSESSMENT_SUBNBHD</th>\n",
       "      <th>CENSUS_TRACT</th>\n",
       "      <th>CENSUS_BLOCK</th>\n",
       "      <th>WARD</th>\n",
       "      <th>SQUARE</th>\n",
       "      <th>X</th>\n",
       "      <th>Y</th>\n",
       "      <th>QUADRANT</th>\n",
       "    </tr>\n",
       "  </thead>\n",
       "  <tbody>\n",
       "    <tr>\n",
       "      <th>0</th>\n",
       "      <td>0</td>\n",
       "      <td>4</td>\n",
       "      <td>0</td>\n",
       "      <td>Warm Cool</td>\n",
       "      <td>Y</td>\n",
       "      <td>2.0</td>\n",
       "      <td>8</td>\n",
       "      <td>4</td>\n",
       "      <td>1910.0</td>\n",
       "      <td>1988.0</td>\n",
       "      <td>...</td>\n",
       "      <td>-77.040832</td>\n",
       "      <td>Old City 2</td>\n",
       "      <td>040 D Old City 2</td>\n",
       "      <td>4201.0</td>\n",
       "      <td>004201 2006</td>\n",
       "      <td>Ward 2</td>\n",
       "      <td>152</td>\n",
       "      <td>-77.040429</td>\n",
       "      <td>38.914881</td>\n",
       "      <td>NW</td>\n",
       "    </tr>\n",
       "    <tr>\n",
       "      <th>1</th>\n",
       "      <td>1</td>\n",
       "      <td>3</td>\n",
       "      <td>1</td>\n",
       "      <td>Warm Cool</td>\n",
       "      <td>Y</td>\n",
       "      <td>2.0</td>\n",
       "      <td>11</td>\n",
       "      <td>5</td>\n",
       "      <td>1898.0</td>\n",
       "      <td>2007.0</td>\n",
       "      <td>...</td>\n",
       "      <td>-77.040764</td>\n",
       "      <td>Old City 2</td>\n",
       "      <td>040 D Old City 2</td>\n",
       "      <td>4201.0</td>\n",
       "      <td>004201 2006</td>\n",
       "      <td>Ward 2</td>\n",
       "      <td>152</td>\n",
       "      <td>-77.040429</td>\n",
       "      <td>38.914881</td>\n",
       "      <td>NW</td>\n",
       "    </tr>\n",
       "    <tr>\n",
       "      <th>2</th>\n",
       "      <td>2</td>\n",
       "      <td>3</td>\n",
       "      <td>1</td>\n",
       "      <td>Hot Water Rad</td>\n",
       "      <td>Y</td>\n",
       "      <td>2.0</td>\n",
       "      <td>9</td>\n",
       "      <td>5</td>\n",
       "      <td>1910.0</td>\n",
       "      <td>2009.0</td>\n",
       "      <td>...</td>\n",
       "      <td>-77.040678</td>\n",
       "      <td>Old City 2</td>\n",
       "      <td>040 D Old City 2</td>\n",
       "      <td>4201.0</td>\n",
       "      <td>004201 2006</td>\n",
       "      <td>Ward 2</td>\n",
       "      <td>152</td>\n",
       "      <td>-77.040429</td>\n",
       "      <td>38.914881</td>\n",
       "      <td>NW</td>\n",
       "    </tr>\n",
       "    <tr>\n",
       "      <th>3</th>\n",
       "      <td>3</td>\n",
       "      <td>3</td>\n",
       "      <td>1</td>\n",
       "      <td>Hot Water Rad</td>\n",
       "      <td>Y</td>\n",
       "      <td>2.0</td>\n",
       "      <td>8</td>\n",
       "      <td>5</td>\n",
       "      <td>1900.0</td>\n",
       "      <td>2003.0</td>\n",
       "      <td>...</td>\n",
       "      <td>-77.040629</td>\n",
       "      <td>Old City 2</td>\n",
       "      <td>040 D Old City 2</td>\n",
       "      <td>4201.0</td>\n",
       "      <td>004201 2006</td>\n",
       "      <td>Ward 2</td>\n",
       "      <td>152</td>\n",
       "      <td>-77.040429</td>\n",
       "      <td>38.914881</td>\n",
       "      <td>NW</td>\n",
       "    </tr>\n",
       "    <tr>\n",
       "      <th>4</th>\n",
       "      <td>4</td>\n",
       "      <td>2</td>\n",
       "      <td>1</td>\n",
       "      <td>Warm Cool</td>\n",
       "      <td>Y</td>\n",
       "      <td>1.0</td>\n",
       "      <td>11</td>\n",
       "      <td>3</td>\n",
       "      <td>1913.0</td>\n",
       "      <td>2012.0</td>\n",
       "      <td>...</td>\n",
       "      <td>-77.039361</td>\n",
       "      <td>Old City 2</td>\n",
       "      <td>040 D Old City 2</td>\n",
       "      <td>4201.0</td>\n",
       "      <td>004201 2006</td>\n",
       "      <td>Ward 2</td>\n",
       "      <td>152</td>\n",
       "      <td>-77.040429</td>\n",
       "      <td>38.914881</td>\n",
       "      <td>NW</td>\n",
       "    </tr>\n",
       "  </tbody>\n",
       "</table>\n",
       "<p>5 rows × 49 columns</p>\n",
       "</div>"
      ],
      "text/plain": [
       "   Unnamed: 0  BATHRM  HF_BATHRM           HEAT AC  NUM_UNITS  ROOMS  BEDRM  \\\n",
       "0           0       4          0      Warm Cool  Y        2.0      8      4   \n",
       "1           1       3          1      Warm Cool  Y        2.0     11      5   \n",
       "2           2       3          1  Hot Water Rad  Y        2.0      9      5   \n",
       "3           3       3          1  Hot Water Rad  Y        2.0      8      5   \n",
       "4           4       2          1      Warm Cool  Y        1.0     11      3   \n",
       "\n",
       "      AYB  YR_RMDL  ...  LONGITUDE  ASSESSMENT_NBHD ASSESSMENT_SUBNBHD  \\\n",
       "0  1910.0   1988.0  ... -77.040832       Old City 2   040 D Old City 2   \n",
       "1  1898.0   2007.0  ... -77.040764       Old City 2   040 D Old City 2   \n",
       "2  1910.0   2009.0  ... -77.040678       Old City 2   040 D Old City 2   \n",
       "3  1900.0   2003.0  ... -77.040629       Old City 2   040 D Old City 2   \n",
       "4  1913.0   2012.0  ... -77.039361       Old City 2   040 D Old City 2   \n",
       "\n",
       "   CENSUS_TRACT CENSUS_BLOCK    WARD  SQUARE          X          Y QUADRANT  \n",
       "0        4201.0  004201 2006  Ward 2     152 -77.040429  38.914881       NW  \n",
       "1        4201.0  004201 2006  Ward 2     152 -77.040429  38.914881       NW  \n",
       "2        4201.0  004201 2006  Ward 2     152 -77.040429  38.914881       NW  \n",
       "3        4201.0  004201 2006  Ward 2     152 -77.040429  38.914881       NW  \n",
       "4        4201.0  004201 2006  Ward 2     152 -77.040429  38.914881       NW  \n",
       "\n",
       "[5 rows x 49 columns]"
      ]
     },
     "execution_count": 15,
     "metadata": {},
     "output_type": "execute_result"
    }
   ],
   "source": [
    "filepath = \"DC-Properties.csv\"\n",
    "\n",
    "df = pd.read_csv(filepath)\n",
    "df.head()"
   ]
  },
  {
   "cell_type": "code",
   "execution_count": 16,
   "metadata": {},
   "outputs": [
    {
     "data": {
      "text/plain": [
       "Unnamed: 0            158957\n",
       "BATHRM                158957\n",
       "HF_BATHRM             158957\n",
       "HEAT                  158957\n",
       "AC                    158957\n",
       "NUM_UNITS             106696\n",
       "ROOMS                 158957\n",
       "BEDRM                 158957\n",
       "AYB                   158686\n",
       "YR_RMDL                80928\n",
       "EYB                   158957\n",
       "STORIES               106652\n",
       "SALEDATE              132187\n",
       "PRICE                  98216\n",
       "QUALIFIED             158957\n",
       "SALE_NUM              158957\n",
       "GBA                   106696\n",
       "BLDG_NUM              158957\n",
       "STYLE                 106696\n",
       "STRUCT                106696\n",
       "GRADE                 106696\n",
       "CNDTN                 106696\n",
       "EXTWALL               106696\n",
       "ROOF                  106696\n",
       "INTWALL               106696\n",
       "KITCHENS              106695\n",
       "FIREPLACES            158957\n",
       "USECODE               158957\n",
       "LANDAREA              158957\n",
       "GIS_LAST_MOD_DTTM     158957\n",
       "SOURCE                158957\n",
       "CMPLX_NUM              52261\n",
       "LIVING_GBA             52261\n",
       "FULLADDRESS           106040\n",
       "CITY                  106051\n",
       "STATE                 106051\n",
       "ZIPCODE               158956\n",
       "NATIONALGRID          106051\n",
       "LATITUDE              158956\n",
       "LONGITUDE             158956\n",
       "ASSESSMENT_NBHD       158956\n",
       "ASSESSMENT_SUBNBHD    126406\n",
       "CENSUS_TRACT          158956\n",
       "CENSUS_BLOCK          106051\n",
       "WARD                  158956\n",
       "SQUARE                158957\n",
       "X                     158720\n",
       "Y                     158720\n",
       "QUADRANT              158720\n",
       "dtype: int64"
      ]
     },
     "execution_count": 16,
     "metadata": {},
     "output_type": "execute_result"
    }
   ],
   "source": [
    "#check if any missing values in the data\n",
    "df.count()"
   ]
  },
  {
   "cell_type": "code",
   "execution_count": 17,
   "metadata": {},
   "outputs": [
    {
     "data": {
      "text/plain": [
       "Unnamed: 0                 0\n",
       "BATHRM                     0\n",
       "HF_BATHRM                  0\n",
       "HEAT                       0\n",
       "AC                         0\n",
       "NUM_UNITS              52261\n",
       "ROOMS                      0\n",
       "BEDRM                      0\n",
       "AYB                      271\n",
       "YR_RMDL                78029\n",
       "EYB                        0\n",
       "STORIES                52305\n",
       "SALEDATE               26770\n",
       "PRICE                  60741\n",
       "QUALIFIED                  0\n",
       "SALE_NUM                   0\n",
       "GBA                    52261\n",
       "BLDG_NUM                   0\n",
       "STYLE                  52261\n",
       "STRUCT                 52261\n",
       "GRADE                  52261\n",
       "CNDTN                  52261\n",
       "EXTWALL                52261\n",
       "ROOF                   52261\n",
       "INTWALL                52261\n",
       "KITCHENS               52262\n",
       "FIREPLACES                 0\n",
       "USECODE                    0\n",
       "LANDAREA                   0\n",
       "GIS_LAST_MOD_DTTM          0\n",
       "SOURCE                     0\n",
       "CMPLX_NUM             106696\n",
       "LIVING_GBA            106696\n",
       "FULLADDRESS            52917\n",
       "CITY                   52906\n",
       "STATE                  52906\n",
       "ZIPCODE                    1\n",
       "NATIONALGRID           52906\n",
       "LATITUDE                   1\n",
       "LONGITUDE                  1\n",
       "ASSESSMENT_NBHD            1\n",
       "ASSESSMENT_SUBNBHD     32551\n",
       "CENSUS_TRACT               1\n",
       "CENSUS_BLOCK           52906\n",
       "WARD                       1\n",
       "SQUARE                     0\n",
       "X                        237\n",
       "Y                        237\n",
       "QUADRANT                 237\n",
       "dtype: int64"
      ]
     },
     "execution_count": 17,
     "metadata": {},
     "output_type": "execute_result"
    }
   ],
   "source": [
    "df.isnull().sum()"
   ]
  },
  {
   "cell_type": "code",
   "execution_count": 18,
   "metadata": {},
   "outputs": [],
   "source": [
    "df['PRICE'] = df['PRICE'].fillna(value = df['PRICE'].mean())"
   ]
  },
  {
   "cell_type": "code",
   "execution_count": 19,
   "metadata": {},
   "outputs": [
    {
     "data": {
      "text/plain": [
       "0"
      ]
     },
     "execution_count": 19,
     "metadata": {},
     "output_type": "execute_result"
    }
   ],
   "source": [
    "df['PRICE'].isnull().sum()"
   ]
  },
  {
   "cell_type": "code",
   "execution_count": 20,
   "metadata": {},
   "outputs": [
    {
     "data": {
      "text/html": [
       "<div>\n",
       "<style scoped>\n",
       "    .dataframe tbody tr th:only-of-type {\n",
       "        vertical-align: middle;\n",
       "    }\n",
       "\n",
       "    .dataframe tbody tr th {\n",
       "        vertical-align: top;\n",
       "    }\n",
       "\n",
       "    .dataframe thead th {\n",
       "        text-align: right;\n",
       "    }\n",
       "</style>\n",
       "<table border=\"1\" class=\"dataframe\">\n",
       "  <thead>\n",
       "    <tr style=\"text-align: right;\">\n",
       "      <th></th>\n",
       "      <th>Unnamed: 0</th>\n",
       "      <th>BATHRM</th>\n",
       "      <th>HF_BATHRM</th>\n",
       "      <th>NUM_UNITS</th>\n",
       "      <th>ROOMS</th>\n",
       "      <th>BEDRM</th>\n",
       "      <th>AYB</th>\n",
       "      <th>YR_RMDL</th>\n",
       "      <th>EYB</th>\n",
       "      <th>STORIES</th>\n",
       "      <th>...</th>\n",
       "      <th>USECODE</th>\n",
       "      <th>LANDAREA</th>\n",
       "      <th>CMPLX_NUM</th>\n",
       "      <th>LIVING_GBA</th>\n",
       "      <th>ZIPCODE</th>\n",
       "      <th>LATITUDE</th>\n",
       "      <th>LONGITUDE</th>\n",
       "      <th>CENSUS_TRACT</th>\n",
       "      <th>X</th>\n",
       "      <th>Y</th>\n",
       "    </tr>\n",
       "  </thead>\n",
       "  <tbody>\n",
       "    <tr>\n",
       "      <th>count</th>\n",
       "      <td>158957.000000</td>\n",
       "      <td>158957.000000</td>\n",
       "      <td>158957.000000</td>\n",
       "      <td>106696.000000</td>\n",
       "      <td>158957.000000</td>\n",
       "      <td>158957.000000</td>\n",
       "      <td>158686.000000</td>\n",
       "      <td>80928.000000</td>\n",
       "      <td>158957.000000</td>\n",
       "      <td>106652.000000</td>\n",
       "      <td>...</td>\n",
       "      <td>158957.000000</td>\n",
       "      <td>158957.000000</td>\n",
       "      <td>52261.000000</td>\n",
       "      <td>52261.000000</td>\n",
       "      <td>158956.000000</td>\n",
       "      <td>158956.000000</td>\n",
       "      <td>158956.000000</td>\n",
       "      <td>158956.000000</td>\n",
       "      <td>158720.000000</td>\n",
       "      <td>158720.000000</td>\n",
       "    </tr>\n",
       "    <tr>\n",
       "      <th>mean</th>\n",
       "      <td>79478.000000</td>\n",
       "      <td>1.810678</td>\n",
       "      <td>0.458237</td>\n",
       "      <td>1.198039</td>\n",
       "      <td>6.187736</td>\n",
       "      <td>2.732506</td>\n",
       "      <td>1941.987579</td>\n",
       "      <td>1998.243537</td>\n",
       "      <td>1963.718024</td>\n",
       "      <td>2.091793</td>\n",
       "      <td>...</td>\n",
       "      <td>14.252999</td>\n",
       "      <td>2473.282158</td>\n",
       "      <td>2371.544249</td>\n",
       "      <td>888.834542</td>\n",
       "      <td>20012.694563</td>\n",
       "      <td>38.914854</td>\n",
       "      <td>-77.016676</td>\n",
       "      <td>5348.216324</td>\n",
       "      <td>-77.016712</td>\n",
       "      <td>38.914846</td>\n",
       "    </tr>\n",
       "    <tr>\n",
       "      <th>std</th>\n",
       "      <td>45887.077707</td>\n",
       "      <td>0.976396</td>\n",
       "      <td>0.587571</td>\n",
       "      <td>0.596924</td>\n",
       "      <td>2.618165</td>\n",
       "      <td>1.358864</td>\n",
       "      <td>33.640234</td>\n",
       "      <td>16.575786</td>\n",
       "      <td>24.923150</td>\n",
       "      <td>2.933323</td>\n",
       "      <td>...</td>\n",
       "      <td>3.725736</td>\n",
       "      <td>5059.046023</td>\n",
       "      <td>1114.272364</td>\n",
       "      <td>420.185822</td>\n",
       "      <td>15.627084</td>\n",
       "      <td>0.031723</td>\n",
       "      <td>0.040938</td>\n",
       "      <td>3369.645953</td>\n",
       "      <td>0.040933</td>\n",
       "      <td>0.031682</td>\n",
       "    </tr>\n",
       "    <tr>\n",
       "      <th>min</th>\n",
       "      <td>0.000000</td>\n",
       "      <td>0.000000</td>\n",
       "      <td>0.000000</td>\n",
       "      <td>0.000000</td>\n",
       "      <td>0.000000</td>\n",
       "      <td>0.000000</td>\n",
       "      <td>1754.000000</td>\n",
       "      <td>20.000000</td>\n",
       "      <td>1800.000000</td>\n",
       "      <td>0.000000</td>\n",
       "      <td>...</td>\n",
       "      <td>11.000000</td>\n",
       "      <td>0.000000</td>\n",
       "      <td>1001.000000</td>\n",
       "      <td>0.000000</td>\n",
       "      <td>20001.000000</td>\n",
       "      <td>38.819731</td>\n",
       "      <td>-77.113909</td>\n",
       "      <td>100.000000</td>\n",
       "      <td>-77.113135</td>\n",
       "      <td>38.820576</td>\n",
       "    </tr>\n",
       "    <tr>\n",
       "      <th>25%</th>\n",
       "      <td>39739.000000</td>\n",
       "      <td>1.000000</td>\n",
       "      <td>0.000000</td>\n",
       "      <td>1.000000</td>\n",
       "      <td>4.000000</td>\n",
       "      <td>2.000000</td>\n",
       "      <td>1918.000000</td>\n",
       "      <td>1985.000000</td>\n",
       "      <td>1954.000000</td>\n",
       "      <td>2.000000</td>\n",
       "      <td>...</td>\n",
       "      <td>11.000000</td>\n",
       "      <td>697.000000</td>\n",
       "      <td>1501.000000</td>\n",
       "      <td>616.000000</td>\n",
       "      <td>20007.000000</td>\n",
       "      <td>38.895425</td>\n",
       "      <td>-77.042892</td>\n",
       "      <td>2102.000000</td>\n",
       "      <td>-77.042894</td>\n",
       "      <td>38.895432</td>\n",
       "    </tr>\n",
       "    <tr>\n",
       "      <th>50%</th>\n",
       "      <td>79478.000000</td>\n",
       "      <td>2.000000</td>\n",
       "      <td>0.000000</td>\n",
       "      <td>1.000000</td>\n",
       "      <td>6.000000</td>\n",
       "      <td>3.000000</td>\n",
       "      <td>1937.000000</td>\n",
       "      <td>2004.000000</td>\n",
       "      <td>1963.000000</td>\n",
       "      <td>2.000000</td>\n",
       "      <td>...</td>\n",
       "      <td>13.000000</td>\n",
       "      <td>1649.000000</td>\n",
       "      <td>2265.000000</td>\n",
       "      <td>783.000000</td>\n",
       "      <td>20011.000000</td>\n",
       "      <td>38.915337</td>\n",
       "      <td>-77.019596</td>\n",
       "      <td>5201.000000</td>\n",
       "      <td>-77.019581</td>\n",
       "      <td>38.915229</td>\n",
       "    </tr>\n",
       "    <tr>\n",
       "      <th>75%</th>\n",
       "      <td>119217.000000</td>\n",
       "      <td>2.000000</td>\n",
       "      <td>1.000000</td>\n",
       "      <td>1.000000</td>\n",
       "      <td>7.000000</td>\n",
       "      <td>3.000000</td>\n",
       "      <td>1960.000000</td>\n",
       "      <td>2010.000000</td>\n",
       "      <td>1975.000000</td>\n",
       "      <td>2.000000</td>\n",
       "      <td>...</td>\n",
       "      <td>17.000000</td>\n",
       "      <td>3000.000000</td>\n",
       "      <td>2910.000000</td>\n",
       "      <td>1060.000000</td>\n",
       "      <td>20018.000000</td>\n",
       "      <td>38.936075</td>\n",
       "      <td>-76.988626</td>\n",
       "      <td>8302.000000</td>\n",
       "      <td>-76.988842</td>\n",
       "      <td>38.936077</td>\n",
       "    </tr>\n",
       "    <tr>\n",
       "      <th>max</th>\n",
       "      <td>158956.000000</td>\n",
       "      <td>14.000000</td>\n",
       "      <td>11.000000</td>\n",
       "      <td>6.000000</td>\n",
       "      <td>48.000000</td>\n",
       "      <td>24.000000</td>\n",
       "      <td>2019.000000</td>\n",
       "      <td>2019.000000</td>\n",
       "      <td>2018.000000</td>\n",
       "      <td>826.000000</td>\n",
       "      <td>...</td>\n",
       "      <td>117.000000</td>\n",
       "      <td>942632.000000</td>\n",
       "      <td>5621.000000</td>\n",
       "      <td>8553.000000</td>\n",
       "      <td>20392.000000</td>\n",
       "      <td>38.995540</td>\n",
       "      <td>-76.909758</td>\n",
       "      <td>11100.000000</td>\n",
       "      <td>-76.910511</td>\n",
       "      <td>38.993646</td>\n",
       "    </tr>\n",
       "  </tbody>\n",
       "</table>\n",
       "<p>8 rows × 26 columns</p>\n",
       "</div>"
      ],
      "text/plain": [
       "          Unnamed: 0         BATHRM      HF_BATHRM      NUM_UNITS  \\\n",
       "count  158957.000000  158957.000000  158957.000000  106696.000000   \n",
       "mean    79478.000000       1.810678       0.458237       1.198039   \n",
       "std     45887.077707       0.976396       0.587571       0.596924   \n",
       "min         0.000000       0.000000       0.000000       0.000000   \n",
       "25%     39739.000000       1.000000       0.000000       1.000000   \n",
       "50%     79478.000000       2.000000       0.000000       1.000000   \n",
       "75%    119217.000000       2.000000       1.000000       1.000000   \n",
       "max    158956.000000      14.000000      11.000000       6.000000   \n",
       "\n",
       "               ROOMS          BEDRM            AYB       YR_RMDL  \\\n",
       "count  158957.000000  158957.000000  158686.000000  80928.000000   \n",
       "mean        6.187736       2.732506    1941.987579   1998.243537   \n",
       "std         2.618165       1.358864      33.640234     16.575786   \n",
       "min         0.000000       0.000000    1754.000000     20.000000   \n",
       "25%         4.000000       2.000000    1918.000000   1985.000000   \n",
       "50%         6.000000       3.000000    1937.000000   2004.000000   \n",
       "75%         7.000000       3.000000    1960.000000   2010.000000   \n",
       "max        48.000000      24.000000    2019.000000   2019.000000   \n",
       "\n",
       "                 EYB        STORIES  ...        USECODE       LANDAREA  \\\n",
       "count  158957.000000  106652.000000  ...  158957.000000  158957.000000   \n",
       "mean     1963.718024       2.091793  ...      14.252999    2473.282158   \n",
       "std        24.923150       2.933323  ...       3.725736    5059.046023   \n",
       "min      1800.000000       0.000000  ...      11.000000       0.000000   \n",
       "25%      1954.000000       2.000000  ...      11.000000     697.000000   \n",
       "50%      1963.000000       2.000000  ...      13.000000    1649.000000   \n",
       "75%      1975.000000       2.000000  ...      17.000000    3000.000000   \n",
       "max      2018.000000     826.000000  ...     117.000000  942632.000000   \n",
       "\n",
       "          CMPLX_NUM    LIVING_GBA        ZIPCODE       LATITUDE  \\\n",
       "count  52261.000000  52261.000000  158956.000000  158956.000000   \n",
       "mean    2371.544249    888.834542   20012.694563      38.914854   \n",
       "std     1114.272364    420.185822      15.627084       0.031723   \n",
       "min     1001.000000      0.000000   20001.000000      38.819731   \n",
       "25%     1501.000000    616.000000   20007.000000      38.895425   \n",
       "50%     2265.000000    783.000000   20011.000000      38.915337   \n",
       "75%     2910.000000   1060.000000   20018.000000      38.936075   \n",
       "max     5621.000000   8553.000000   20392.000000      38.995540   \n",
       "\n",
       "           LONGITUDE   CENSUS_TRACT              X              Y  \n",
       "count  158956.000000  158956.000000  158720.000000  158720.000000  \n",
       "mean      -77.016676    5348.216324     -77.016712      38.914846  \n",
       "std         0.040938    3369.645953       0.040933       0.031682  \n",
       "min       -77.113909     100.000000     -77.113135      38.820576  \n",
       "25%       -77.042892    2102.000000     -77.042894      38.895432  \n",
       "50%       -77.019596    5201.000000     -77.019581      38.915229  \n",
       "75%       -76.988626    8302.000000     -76.988842      38.936077  \n",
       "max       -76.909758   11100.000000     -76.910511      38.993646  \n",
       "\n",
       "[8 rows x 26 columns]"
      ]
     },
     "execution_count": 20,
     "metadata": {},
     "output_type": "execute_result"
    }
   ],
   "source": [
    "#descriptive statistics\n",
    "df.describe()"
   ]
  },
  {
   "cell_type": "code",
   "execution_count": null,
   "metadata": {},
   "outputs": [],
   "source": []
  },
  {
   "cell_type": "code",
   "execution_count": 21,
   "metadata": {},
   "outputs": [
    {
     "data": {
      "text/plain": [
       "array([[<matplotlib.axes._subplots.AxesSubplot object at 0x000002C5C0DFA588>,\n",
       "        <matplotlib.axes._subplots.AxesSubplot object at 0x000002C5B0928DA0>,\n",
       "        <matplotlib.axes._subplots.AxesSubplot object at 0x000002C5B0946320>,\n",
       "        <matplotlib.axes._subplots.AxesSubplot object at 0x000002C5B0963898>,\n",
       "        <matplotlib.axes._subplots.AxesSubplot object at 0x000002C5B098BE10>],\n",
       "       [<matplotlib.axes._subplots.AxesSubplot object at 0x000002C5B09BA3C8>,\n",
       "        <matplotlib.axes._subplots.AxesSubplot object at 0x000002C5B09E0940>,\n",
       "        <matplotlib.axes._subplots.AxesSubplot object at 0x000002C5B0A08E80>,\n",
       "        <matplotlib.axes._subplots.AxesSubplot object at 0x000002C5B0A08EB8>,\n",
       "        <matplotlib.axes._subplots.AxesSubplot object at 0x000002C5B0A61978>],\n",
       "       [<matplotlib.axes._subplots.AxesSubplot object at 0x000002C5B0A88EF0>,\n",
       "        <matplotlib.axes._subplots.AxesSubplot object at 0x000002C5B0AB94A8>,\n",
       "        <matplotlib.axes._subplots.AxesSubplot object at 0x000002C5B0AE0A20>,\n",
       "        <matplotlib.axes._subplots.AxesSubplot object at 0x000002C5B0B07F98>,\n",
       "        <matplotlib.axes._subplots.AxesSubplot object at 0x000002C5B0B39550>],\n",
       "       [<matplotlib.axes._subplots.AxesSubplot object at 0x000002C5B0B5FAC8>,\n",
       "        <matplotlib.axes._subplots.AxesSubplot object at 0x000002C5B0B92080>,\n",
       "        <matplotlib.axes._subplots.AxesSubplot object at 0x000002C5B0BBC5F8>,\n",
       "        <matplotlib.axes._subplots.AxesSubplot object at 0x000002C5B0BE3B70>,\n",
       "        <matplotlib.axes._subplots.AxesSubplot object at 0x000002C5B0C14128>],\n",
       "       [<matplotlib.axes._subplots.AxesSubplot object at 0x000002C5B0C3B6A0>,\n",
       "        <matplotlib.axes._subplots.AxesSubplot object at 0x000002C5AFAB7780>,\n",
       "        <matplotlib.axes._subplots.AxesSubplot object at 0x000002C5B0C83BA8>,\n",
       "        <matplotlib.axes._subplots.AxesSubplot object at 0x000002C5AF583160>,\n",
       "        <matplotlib.axes._subplots.AxesSubplot object at 0x000002C5AF5AB6D8>],\n",
       "       [<matplotlib.axes._subplots.AxesSubplot object at 0x000002C5AF5D4C50>,\n",
       "        <matplotlib.axes._subplots.AxesSubplot object at 0x000002C5AF604208>,\n",
       "        <matplotlib.axes._subplots.AxesSubplot object at 0x000002C5AF62E780>,\n",
       "        <matplotlib.axes._subplots.AxesSubplot object at 0x000002C5AF657CF8>,\n",
       "        <matplotlib.axes._subplots.AxesSubplot object at 0x000002C5AF6852B0>]],\n",
       "      dtype=object)"
      ]
     },
     "execution_count": 21,
     "metadata": {},
     "output_type": "execute_result"
    },
    {
     "data": {
      "image/png": "[encoded data removed]",
      "text/plain": [
       "<Figure size 720x720 with 30 Axes>"
      ]
     },
     "metadata": {
      "needs_background": "light"
     },
     "output_type": "display_data"
    }
   ],
   "source": [
    "#plot the frequency count for each column\n",
    "df.hist(figsize=(10,10))"
   ]
  },
  {
   "cell_type": "markdown",
   "metadata": {},
   "source": [
    "We can see from the descriptive statistics and the frequency distribution plots that each feature (column) has varying ranges. Features such as Insulin have a high maximum value but other features like DiabetesPedigreeFunction have low maximum values."
   ]
  },
  {
   "cell_type": "code",
   "execution_count": 22,
   "metadata": {},
   "outputs": [
    {
     "data": {
      "text/plain": [
       "array([[<matplotlib.axes._subplots.AxesSubplot object at 0x000002C5C0DFAF60>,\n",
       "        <matplotlib.axes._subplots.AxesSubplot object at 0x000002C5B4CE7208>,\n",
       "        <matplotlib.axes._subplots.AxesSubplot object at 0x000002C5B4EF32B0>,\n",
       "        <matplotlib.axes._subplots.AxesSubplot object at 0x000002C5B50896A0>,\n",
       "        <matplotlib.axes._subplots.AxesSubplot object at 0x000002C5B50B1B00>],\n",
       "       [<matplotlib.axes._subplots.AxesSubplot object at 0x000002C5B50DAF60>,\n",
       "        <matplotlib.axes._subplots.AxesSubplot object at 0x000002C5B510B400>,\n",
       "        <matplotlib.axes._subplots.AxesSubplot object at 0x000002C5B5134898>,\n",
       "        <matplotlib.axes._subplots.AxesSubplot object at 0x000002C5B51348D0>,\n",
       "        <matplotlib.axes._subplots.AxesSubplot object at 0x000002C5B518E160>],\n",
       "       [<matplotlib.axes._subplots.AxesSubplot object at 0x000002C5B51B55C0>,\n",
       "        <matplotlib.axes._subplots.AxesSubplot object at 0x000002C5B51DEA20>,\n",
       "        <matplotlib.axes._subplots.AxesSubplot object at 0x000002C5B5205E80>,\n",
       "        <matplotlib.axes._subplots.AxesSubplot object at 0x000002C5B5236320>,\n",
       "        <matplotlib.axes._subplots.AxesSubplot object at 0x000002C5B525E780>],\n",
       "       [<matplotlib.axes._subplots.AxesSubplot object at 0x000002C5B5288BE0>,\n",
       "        <matplotlib.axes._subplots.AxesSubplot object at 0x000002C5B52BA080>,\n",
       "        <matplotlib.axes._subplots.AxesSubplot object at 0x000002C5B52E24E0>,\n",
       "        <matplotlib.axes._subplots.AxesSubplot object at 0x000002C5B5308940>,\n",
       "        <matplotlib.axes._subplots.AxesSubplot object at 0x000002C5B5330DA0>],\n",
       "       [<matplotlib.axes._subplots.AxesSubplot object at 0x000002C5B5361240>,\n",
       "        <matplotlib.axes._subplots.AxesSubplot object at 0x000002C5B53896A0>,\n",
       "        <matplotlib.axes._subplots.AxesSubplot object at 0x000002C5B4EE8710>,\n",
       "        <matplotlib.axes._subplots.AxesSubplot object at 0x000002C5B53CAB70>,\n",
       "        <matplotlib.axes._subplots.AxesSubplot object at 0x000002C5B53F2FD0>],\n",
       "       [<matplotlib.axes._subplots.AxesSubplot object at 0x000002C5B5423470>,\n",
       "        <matplotlib.axes._subplots.AxesSubplot object at 0x000002C5B54498D0>,\n",
       "        <matplotlib.axes._subplots.AxesSubplot object at 0x000002C5B5473E48>,\n",
       "        <matplotlib.axes._subplots.AxesSubplot object at 0x000002C5B54A4400>,\n",
       "        <matplotlib.axes._subplots.AxesSubplot object at 0x000002C5B54C8978>]],\n",
       "      dtype=object)"
      ]
     },
     "execution_count": 22,
     "metadata": {},
     "output_type": "execute_result"
    },
    {
     "data": {
      "image/png": "[encoded data removed]",
      "text/plain": [
       "<Figure size 720x720 with 30 Axes>"
      ]
     },
     "metadata": {
      "needs_background": "light"
     },
     "output_type": "display_data"
    }
   ],
   "source": [
    "#plot frequency count data but using the same scale (minimum and maximum value out of all columns)\n",
    "df.hist(figsize=(10,10), sharex=True)"
   ]
  },
  {
   "cell_type": "markdown",
   "metadata": {},
   "source": [
    "**Scaling will help to find any drastic effects that occur in the data when comparing multiple features. If we try to see any effects when putting the features on the same scale in the default data, as in the above charts, smaller values cannot be seen.**"
   ]
  },
  {
   "cell_type": "markdown",
   "metadata": {},
   "source": [
    "### Z-score Standardization\n",
    "\n",
    "Z-score standardization is the process of converting the data to have a mean of 0 and a standard deviation of 1. The z-score is calculcated by subtracting the mean for a feature (column) by each data point value and dividing by the standard deviation.\n",
    "### \\begin{align}  z = \\frac{(value - mean)}{std dev} \\end{align}"
   ]
  },
  {
   "cell_type": "code",
   "execution_count": 23,
   "metadata": {},
   "outputs": [
    {
     "data": {
      "text/plain": [
       "0    1.095000e+06\n",
       "1    9.313516e+05\n",
       "2    2.100000e+06\n",
       "3    1.602000e+06\n",
       "4    9.313516e+05\n",
       "Name: PRICE, dtype: float64"
      ]
     },
     "execution_count": 23,
     "metadata": {},
     "output_type": "execute_result"
    }
   ],
   "source": [
    "#first 5 rows of the 'PRICE' column\n",
    "df['PRICE'].head()"
   ]
  },
  {
   "cell_type": "code",
   "execution_count": 24,
   "metadata": {},
   "outputs": [],
   "source": [
    "#Method 1: manual calculation of z-scores for 'Glucose' column\n",
    "\n",
    "#mean for the column\n",
    "mean = df['PRICE'].mean()\n",
    "\n",
    "#standard deviation of the column\n",
    "std = df['PRICE'].std()\n",
    "\n",
    "#each value in column minus the mean and then divide by the standard deviation\n",
    "PRICE_z_manual = (df['PRICE'] - mean)/std"
   ]
  },
  {
   "cell_type": "code",
   "execution_count": 25,
   "metadata": {},
   "outputs": [
    {
     "data": {
      "text/plain": [
       "(931351.5949342768, 5550558.004606821)"
      ]
     },
     "execution_count": 25,
     "metadata": {},
     "output_type": "execute_result"
    }
   ],
   "source": [
    "#values for mean and standard deviation of 'Glucose column'\n",
    "mean, std"
   ]
  },
  {
   "cell_type": "code",
   "execution_count": 26,
   "metadata": {},
   "outputs": [
    {
     "data": {
      "text/plain": [
       "0    2.948323e-02\n",
       "1   -1.191092e-13\n",
       "2    2.105461e-01\n",
       "3    1.208254e-01\n",
       "4   -1.191092e-13\n",
       "Name: PRICE, dtype: float64"
      ]
     },
     "execution_count": 26,
     "metadata": {},
     "output_type": "execute_result"
    }
   ],
   "source": [
    "#first 5 rows of z-score standardized 'PRICE' column\n",
    "PRICE_z_manual.head()"
   ]
  },
  {
   "cell_type": "code",
   "execution_count": 27,
   "metadata": {},
   "outputs": [],
   "source": [
    "#Method 2: use scikit-learn to calculate z-scores\n",
    "\n",
    "#set StandardScale function to a variable (easier to type)\n",
    "#scaler will use z-score formula on the column\n",
    "scaler = StandardScaler()\n",
    "\n",
    "#fit_transform calculates the mean and std, and replaces any missing values w/ mean if needed\n",
    "#'PRICE' is in double set of square brackets in order to make it a dataframe\n",
    "PRICE_zscore = scaler.fit_transform(df[['PRICE']])"
   ]
  },
  {
   "cell_type": "code",
   "execution_count": 28,
   "metadata": {},
   "outputs": [
    {
     "data": {
      "text/plain": [
       "(2.6641385438390238e-17, 1.0000000000000002)"
      ]
     },
     "execution_count": 28,
     "metadata": {},
     "output_type": "execute_result"
    }
   ],
   "source": [
    "#mean and standard deviation of z-score standardized 'PRICE' column\n",
    "PRICE_zscore.mean(), PRICE_zscore.std()"
   ]
  },
  {
   "cell_type": "code",
   "execution_count": 29,
   "metadata": {},
   "outputs": [],
   "source": [
    "#because fit_transform made an array, we have to change it back into a Series type (pandas dataframe column)\n",
    "PRICE_z_col = pd.Series(PRICE_zscore.reshape(-1))"
   ]
  },
  {
   "cell_type": "code",
   "execution_count": 30,
   "metadata": {},
   "outputs": [
    {
     "data": {
      "text/plain": [
       "0    2.948333e-02\n",
       "1    2.097369e-17\n",
       "2    2.105468e-01\n",
       "3    1.208258e-01\n",
       "4    2.097369e-17\n",
       "dtype: float64"
      ]
     },
     "execution_count": 30,
     "metadata": {},
     "output_type": "execute_result"
    }
   ],
   "source": [
    "#first 5 rows of z-score standardized glucose column\n",
    "PRICE_z_col.head()"
   ]
  },
  {
   "cell_type": "code",
   "execution_count": 31,
   "metadata": {},
   "outputs": [
    {
     "data": {
      "text/plain": [
       "<matplotlib.axes._subplots.AxesSubplot at 0x2c5b56a2358>"
      ]
     },
     "execution_count": 31,
     "metadata": {},
     "output_type": "execute_result"
    },
    {
     "data": {
      "image/png": "[encoded data removed]",
      "text/plain": [
       "<Figure size 432x288 with 1 Axes>"
      ]
     },
     "metadata": {
      "needs_background": "light"
     },
     "output_type": "display_data"
    }
   ],
   "source": [
    "#BEFORE: frequency count plot of 'PRICE' column\n",
    "df['PRICE'].hist()"
   ]
  },
  {
   "cell_type": "code",
   "execution_count": 32,
   "metadata": {},
   "outputs": [
    {
     "data": {
      "text/plain": [
       "<matplotlib.axes._subplots.AxesSubplot at 0x2c5b596a7f0>"
      ]
     },
     "execution_count": 32,
     "metadata": {},
     "output_type": "execute_result"
    },
    {
     "data": {
      "image/png": "[encoded data removed]",
      "text/plain": [
       "<Figure size 432x288 with 1 Axes>"
      ]
     },
     "metadata": {
      "needs_background": "light"
     },
     "output_type": "display_data"
    }
   ],
   "source": [
    "#AFTER: frequency count plot of 'PRICE' column (z-score standardization)\n",
    "#range is much smaller\n",
    "PRICE_z_col.hist()"
   ]
  },
  {
   "cell_type": "markdown",
   "metadata": {},
   "source": [
    "### Min-max Scaling\n",
    "Max-min scaling transforms the data into a range from 0 to 1. The new minimum value of the column will always be 0 and the new maximum value of the column will always be 1. The values in between are calculated by using the original value and subtracting the column's minimum value, then dividing by the maximum value of the column minus the minimum value.\n",
    "\n",
    "### \\begin{align}  m = \\frac{(value - min)}{max - min} \\end{align}"
   ]
  },
  {
   "cell_type": "code",
   "execution_count": 36,
   "metadata": {},
   "outputs": [],
   "source": [
    "#MinMaxScaler function will calculate the formula\n",
    "minmax_sc = MinMaxScaler()"
   ]
  },
  {
   "cell_type": "code",
   "execution_count": 37,
   "metadata": {},
   "outputs": [],
   "source": [
    "#use MinMaxScaler function and fit_transform function on the 'PRICE_zscore' column\n",
    "PRICE_minmax = minmax_sc.fit_transform(df[['PRICE']])"
   ]
  },
  {
   "cell_type": "code",
   "execution_count": 38,
   "metadata": {},
   "outputs": [
    {
     "data": {
      "text/plain": [
       "(0.0067770300467104, 0.04038885061696727)"
      ]
     },
     "execution_count": 38,
     "metadata": {},
     "output_type": "execute_result"
    }
   ],
   "source": [
    "#mean and standard deviation of Min-Max 'PRICE_zscore' column\n",
    "PRICE_minmax.mean(), PRICE_minmax.std()"
   ]
  },
  {
   "cell_type": "code",
   "execution_count": 41,
   "metadata": {},
   "outputs": [
    {
     "data": {
      "text/plain": [
       "0    0.007968\n",
       "1    0.006777\n",
       "2    0.015281\n",
       "3    0.011657\n",
       "4    0.006777\n",
       "dtype: float64"
      ]
     },
     "execution_count": 41,
     "metadata": {},
     "output_type": "execute_result"
    }
   ],
   "source": [
    "#convert array into a dataframe column\n",
    "#look at first 5 rows of min-max values\n",
    "PRICE_mm_col = pd.Series(PRICE_minmax.reshape(-1))\n",
    "PRICE_mm_col.head()"
   ]
  },
  {
   "cell_type": "code",
   "execution_count": 42,
   "metadata": {},
   "outputs": [
    {
     "data": {
      "text/plain": [
       "(0.0, 0.9999999999999999)"
      ]
     },
     "execution_count": 42,
     "metadata": {},
     "output_type": "execute_result"
    }
   ],
   "source": [
    "#verify the range is between 0 and 1\n",
    "PRICE_mm_col.min(), PRICE_mm_col.max()"
   ]
  },
  {
   "cell_type": "code",
   "execution_count": 43,
   "metadata": {},
   "outputs": [
    {
     "data": {
      "text/plain": [
       "<matplotlib.axes._subplots.AxesSubplot at 0x2c5b59d0f28>"
      ]
     },
     "execution_count": 43,
     "metadata": {},
     "output_type": "execute_result"
    },
    {
     "data": {
      "image/png": "[encoded data removed]",
      "text/plain": [
       "<Figure size 432x288 with 1 Axes>"
      ]
     },
     "metadata": {
      "needs_background": "light"
     },
     "output_type": "display_data"
    }
   ],
   "source": [
    "PRICE_mm_col.hist()"
   ]
  },
  {
   "cell_type": "markdown",
   "metadata": {},
   "source": [
    "### Tips for Predictive Models\n",
    "\n",
    "- Z-score standardization is most useful for regression models, such as linear regression and logistic regression\n",
    "- Min-Max scaling is more relevant for algorithms that calculate distances between data points, such as K-Nearest Neighbors and K-Means Clustering"
   ]
  }
 ],
 "metadata": {
  "kernelspec": {
   "display_name": "Python 3",
   "language": "python",
   "name": "python3"
  },
  "language_info": {
   "codemirror_mode": {
    "name": "ipython",
    "version": 3
   },
   "file_extension": ".py",
   "mimetype": "text/x-python",
   "name": "python",
   "nbconvert_exporter": "python",
   "pygments_lexer": "ipython3",
   "version": "3.6.8"
  }
 },
 "nbformat": 4,
 "nbformat_minor": 2
}
